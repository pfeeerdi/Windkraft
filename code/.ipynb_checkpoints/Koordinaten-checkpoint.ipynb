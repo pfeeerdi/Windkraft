{
 "cells": [
  {
   "cell_type": "code",
   "execution_count": 53,
   "id": "a436fdff",
   "metadata": {},
   "outputs": [],
   "source": [
    "import pandas as pd"
   ]
  },
  {
   "cell_type": "code",
   "execution_count": 54,
   "id": "94259fee",
   "metadata": {},
   "outputs": [
    {
     "data": {
      "text/html": [
       "<div>\n",
       "<style scoped>\n",
       "    .dataframe tbody tr th:only-of-type {\n",
       "        vertical-align: middle;\n",
       "    }\n",
       "\n",
       "    .dataframe tbody tr th {\n",
       "        vertical-align: top;\n",
       "    }\n",
       "\n",
       "    .dataframe thead th {\n",
       "        text-align: right;\n",
       "    }\n",
       "</style>\n",
       "<table border=\"1\" class=\"dataframe\">\n",
       "  <thead>\n",
       "    <tr style=\"text-align: right;\">\n",
       "      <th></th>\n",
       "      <th>Long</th>\n",
       "      <th>Lat</th>\n",
       "    </tr>\n",
       "  </thead>\n",
       "  <tbody>\n",
       "    <tr>\n",
       "      <th>0</th>\n",
       "      <td>50.783</td>\n",
       "      <td>6.083</td>\n",
       "    </tr>\n",
       "    <tr>\n",
       "      <th>1</th>\n",
       "      <td>48.833</td>\n",
       "      <td>10.100</td>\n",
       "    </tr>\n",
       "    <tr>\n",
       "      <th>2</th>\n",
       "      <td>50.233</td>\n",
       "      <td>8.083</td>\n",
       "    </tr>\n",
       "    <tr>\n",
       "      <th>3</th>\n",
       "      <td>49.250</td>\n",
       "      <td>10.967</td>\n",
       "    </tr>\n",
       "    <tr>\n",
       "      <th>4</th>\n",
       "      <td>48.817</td>\n",
       "      <td>11.850</td>\n",
       "    </tr>\n",
       "  </tbody>\n",
       "</table>\n",
       "</div>"
      ],
      "text/plain": [
       "     Long     Lat\n",
       "0  50.783   6.083\n",
       "1  48.833  10.100\n",
       "2  50.233   8.083\n",
       "3  49.250  10.967\n",
       "4  48.817  11.850"
      ]
     },
     "execution_count": 54,
     "metadata": {},
     "output_type": "execute_result"
    }
   ],
   "source": [
    "df = pd.read_csv(\"blibla.csv\", sep= \";\")\n",
    "df.head()"
   ]
  },
  {
   "cell_type": "code",
   "execution_count": 55,
   "id": "9043910e",
   "metadata": {},
   "outputs": [],
   "source": [
    "df[\"Coords\"] = df['Long'].map(str) + \", \" + df['Lat']\n",
    "a = df.Coords.to_list()\n",
    "b = []\n",
    "for entry in a:\n",
    "    x, y = entry.split(\", \")\n",
    "    try:\n",
    "        b.append((float(x), float(y)))\n",
    "    except:\n",
    "        pass"
   ]
  },
  {
   "cell_type": "code",
   "execution_count": 56,
   "id": "ac63d2dd",
   "metadata": {},
   "outputs": [],
   "source": [
    "NoWindKraftKoordinaten = b"
   ]
  },
  {
   "cell_type": "code",
   "execution_count": 57,
   "id": "f08d8d51-fc87-4713-8844-c53794edcbfc",
   "metadata": {},
   "outputs": [],
   "source": [
    "df = pd.read_csv(\"Koordinaten.csv\", sep=\";\")\n",
    "a = df.Koordinaten.to_list()\n",
    "b = []\n",
    "for entry in a:\n",
    "    x, y = entry.split(\", \")\n",
    "    try:\n",
    "        b.append((float(x), float(y)))\n",
    "    except:\n",
    "        pass"
   ]
  },
  {
   "cell_type": "code",
   "execution_count": 58,
   "id": "82097a7d-b5f5-4b27-bed7-6e53ed7c140b",
   "metadata": {},
   "outputs": [],
   "source": [
    "for point in b:\n",
    "    NoWindKraftKoordinaten.append(point)"
   ]
  },
  {
   "cell_type": "code",
   "execution_count": 59,
   "id": "72274e12-7198-475f-a904-c39272ec89c2",
   "metadata": {},
   "outputs": [],
   "source": [
    "df = pd.DataFrame()\n",
    "df[\"loc\"] = NoWindKraftKoordinaten"
   ]
  },
  {
   "cell_type": "code",
   "execution_count": 60,
   "id": "0a03b575-157e-4282-8b2e-e359f8c63fc4",
   "metadata": {},
   "outputs": [],
   "source": [
    "df.to_csv(\"NoWindkraftanlagen.csv\", index=False)"
   ]
  },
  {
   "cell_type": "code",
   "execution_count": null,
   "id": "16b81b50-f02f-4c74-84f5-28717378ce38",
   "metadata": {},
   "outputs": [],
   "source": []
  }
 ],
 "metadata": {
  "kernelspec": {
   "display_name": "Python 3 (ipykernel)",
   "language": "python",
   "name": "python3"
  },
  "language_info": {
   "codemirror_mode": {
    "name": "ipython",
    "version": 3
   },
   "file_extension": ".py",
   "mimetype": "text/x-python",
   "name": "python",
   "nbconvert_exporter": "python",
   "pygments_lexer": "ipython3",
   "version": "3.7.10"
  }
 },
 "nbformat": 4,
 "nbformat_minor": 5
}
