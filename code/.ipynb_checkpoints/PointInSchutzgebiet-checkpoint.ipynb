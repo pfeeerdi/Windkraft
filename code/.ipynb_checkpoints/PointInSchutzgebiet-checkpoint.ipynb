{
 "cells": [
  {
   "cell_type": "code",
   "execution_count": 1,
   "id": "fa6aba0a-1586-4cf8-8ce4-5b4b0cb8c408",
   "metadata": {},
   "outputs": [],
   "source": [
    "import os\n",
    "import pandas as pd\n",
    "import json\n",
    "import requests\n",
    "import fiona\n",
    "from shapely.geometry import shape, mapping, Point, Polygon, MultiPolygon"
   ]
  },
  {
   "cell_type": "code",
   "execution_count": 11,
   "id": "1991c16f-1a91-4e21-8967-a695506f6e95",
   "metadata": {},
   "outputs": [],
   "source": [
    "def PointInPoly(point, geojsonPath):\n",
    "    multipol = fiona.open(geojsonPath)\n",
    "    for multi in multipol:\n",
    "        #print(multi['geometry'])\n",
    "        if Point(point[1], point[0]).within(shape(multi['geometry'])):\n",
    "            return True\n",
    "    #multi= multipol.next()\n",
    "    #print(multipol.schema)\n",
    "    #print(len(multi[\"geometry\"][\"coordinates\"]))\n",
    "    return False "
   ]
  },
  {
   "cell_type": "code",
   "execution_count": 3,
   "id": "8e7c43ff-f3fc-4b98-b2aa-4daf50f459c1",
   "metadata": {},
   "outputs": [],
   "source": [
    "def PointInSchutzgebiet(point):\n",
    "    path = \"../data/Schutzgebiete/\"\n",
    "    files = [\"../data/Schutzgebiete/\"+f for f in os.listdir(path) if f[-4:]==\"json\"]\n",
    "    res = []\n",
    "    for geojsonPath in files:\n",
    "        print(f\"Scanning {geojsonPath}\")\n",
    "        if PointInPoly(point, geojsonPath):\n",
    "            return True\n",
    "    return False        "
   ]
  },
  {
   "cell_type": "code",
   "execution_count": 4,
   "id": "2c239430-eb2f-422f-bd3e-bdc815a09134",
   "metadata": {},
   "outputs": [],
   "source": [
    "import pyproj\n",
    "import math\n",
    "\n",
    "P = pyproj.Proj(proj='utm', zone=31, ellps='WGS84', preserve_units=True)\n",
    "G = pyproj.Geod(ellps='WGS84')\n",
    "\n",
    "def LatLon_To_XY(Lat,Lon):\n",
    "    return P(Lat, Lon)    \n",
    "\n",
    "def XY_To_LatLon(x,y):\n",
    "    return P(x,y,inverse=True)    \n",
    "\n",
    "def distance(Lat1, Lon1, Lat2, Lon2):\n",
    "    return G.inv(Lon1, Lat1, Lon2, Lat2)[2]"
   ]
  },
  {
   "cell_type": "code",
   "execution_count": 7,
   "id": "ba5458f6-875e-4591-a990-2918551fee34",
   "metadata": {},
   "outputs": [
    {
     "data": {
      "text/plain": [
       "(2.539805616562879, 51.322148940046155)"
      ]
     },
     "execution_count": 7,
     "metadata": {},
     "output_type": "execute_result"
    }
   ],
   "source": [
    "XY_To_LatLon(467932.5472999997, 5685750.596799999)"
   ]
  },
  {
   "cell_type": "code",
   "execution_count": 38,
   "id": "2933e29e-fab0-4c22-acda-00dd85c3eb42",
   "metadata": {},
   "outputs": [],
   "source": [
    "a = (2.539805616562879, 51.322148940046155)"
   ]
  },
  {
   "cell_type": "code",
   "execution_count": 39,
   "id": "590a82d7-5954-482b-a98a-2a61136da00f",
   "metadata": {},
   "outputs": [
    {
     "data": {
      "text/plain": [
       "(6881362.419625474, 1433229.064903832)"
      ]
     },
     "execution_count": 39,
     "metadata": {},
     "output_type": "execute_result"
    }
   ],
   "source": [
    "a = LatLon_To_XY(a[1], a[0])\n",
    "a"
   ]
  },
  {
   "cell_type": "code",
   "execution_count": null,
   "id": "e53b6e07-fd06-492d-8f44-4cb5b3ce1a95",
   "metadata": {},
   "outputs": [],
   "source": [
    "PointInSchutzgebiet()"
   ]
  },
  {
   "cell_type": "code",
   "execution_count": 13,
   "id": "c206ff2a-76d9-4f94-b3e0-6faa05fa1903",
   "metadata": {},
   "outputs": [
    {
     "data": {
      "text/plain": [
       "False"
      ]
     },
     "execution_count": 13,
     "metadata": {},
     "output_type": "execute_result"
    }
   ],
   "source": [
    "PointInPoly((5685750.596799999, 467932.5472999997), \"../data/Schutzgebiete/Naturschutzgebiete.json\")"
   ]
  },
  {
   "cell_type": "code",
   "execution_count": null,
   "id": "ba1b42ab-fd6a-46b5-8766-76c3cccd00c0",
   "metadata": {},
   "outputs": [],
   "source": [
    "a"
   ]
  },
  {
   "cell_type": "code",
   "execution_count": null,
   "id": "b8af5883-6a21-45df-b6ce-d7495b2a549e",
   "metadata": {},
   "outputs": [],
   "source": [
    "from shapely.geometry import Point, Polygon"
   ]
  },
  {
   "cell_type": "code",
   "execution_count": null,
   "id": "1bf36bac-e8f2-47a8-a0cb-781e2cccd13c",
   "metadata": {},
   "outputs": [],
   "source": [
    "b = Point(6340224.690947644, 1354865.2854184916)"
   ]
  },
  {
   "cell_type": "code",
   "execution_count": null,
   "id": "eec17503-3fe7-46d7-a857-7aa866e40d28",
   "metadata": {},
   "outputs": [],
   "source": [
    "poly = Polygon(geo[\"coordinates\"][0])"
   ]
  },
  {
   "cell_type": "code",
   "execution_count": null,
   "id": "064e75d6-06f5-46c1-b59f-164a184f807e",
   "metadata": {},
   "outputs": [],
   "source": [
    "b.within(poly)"
   ]
  },
  {
   "cell_type": "code",
   "execution_count": null,
   "id": "35c0a7e4-356b-4d63-91fc-8fe31e7b86ee",
   "metadata": {},
   "outputs": [],
   "source": []
  },
  {
   "cell_type": "code",
   "execution_count": null,
   "id": "d9161a4b-5c44-458f-a115-1cf2c17d6ff5",
   "metadata": {},
   "outputs": [],
   "source": []
  }
 ],
 "metadata": {
  "kernelspec": {
   "display_name": "Python 3 (ipykernel)",
   "language": "python",
   "name": "python3"
  },
  "language_info": {
   "codemirror_mode": {
    "name": "ipython",
    "version": 3
   },
   "file_extension": ".py",
   "mimetype": "text/x-python",
   "name": "python",
   "nbconvert_exporter": "python",
   "pygments_lexer": "ipython3",
   "version": "3.7.10"
  }
 },
 "nbformat": 4,
 "nbformat_minor": 5
}
