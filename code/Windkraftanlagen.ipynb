{
 "cells": [
  {
   "cell_type": "code",
   "execution_count": 1,
   "id": "da0a6a63-67bc-41b9-a843-f59093fea2c1",
   "metadata": {},
   "outputs": [],
   "source": [
    "import os\n",
    "import pandas as pd"
   ]
  },
  {
   "cell_type": "markdown",
   "id": "c704e729-bac0-48b8-8885-9c7596cfc3b7",
   "metadata": {},
   "source": [
    "## read data of Windkraftanlagen"
   ]
  },
  {
   "cell_type": "code",
   "execution_count": 2,
   "id": "aa622914-d225-48bf-b6fc-ee1712b38050",
   "metadata": {},
   "outputs": [
    {
     "name": "stdout",
     "output_type": "stream",
     "text": [
      "<class 'pandas.core.frame.DataFrame'>\n",
      "RangeIndex: 5208 entries, 0 to 5207\n",
      "Data columns (total 15 columns):\n",
      " #   Column                    Non-Null Count  Dtype  \n",
      "---  ------                    --------------  -----  \n",
      " 0   X                         5194 non-null   float64\n",
      " 1   Y                         5194 non-null   float64\n",
      " 2   FID                       5208 non-null   int64  \n",
      " 3   Bundesland                5208 non-null   object \n",
      " 4   Name                      5208 non-null   object \n",
      " 5   Baujahr                   4668 non-null   object \n",
      " 6   Gesamtleistung__MW_       2634 non-null   object \n",
      " 7   Anzahl                    2637 non-null   object \n",
      " 8   Typ__WKA_                 4569 non-null   object \n",
      " 9   Ort                       3248 non-null   object \n",
      " 10  Landkreis                 2683 non-null   object \n",
      " 11  Breitengrad               5194 non-null   float64\n",
      " 12  Längengrad                5194 non-null   float64\n",
      " 13  Projektierer___Betreiber  2210 non-null   object \n",
      " 14  Bemerkungen               736 non-null    object \n",
      "dtypes: float64(4), int64(1), object(10)\n",
      "memory usage: 610.4+ KB\n"
     ]
    }
   ],
   "source": [
    "Windanlagen = \"../data/Windkraftanlagen/_Onshore_Windkraftanlagen_in_Deutschland.csv\"\n",
    "df = pd.read_csv(Windanlagen)\n",
    "df.info()"
   ]
  },
  {
   "cell_type": "markdown",
   "id": "ea6101bb-500b-4ee2-996d-9b866da85767",
   "metadata": {},
   "source": [
    "## "
   ]
  },
  {
   "cell_type": "code",
   "execution_count": 3,
   "id": "361390d5-a428-42d3-ab6b-5a200315fd16",
   "metadata": {},
   "outputs": [],
   "source": [
    "#drop windparks without X and Y coordinates\n",
    "df.dropna(axis=0, subset=[\"X\", \"Y\"], inplace=True)\n",
    "\n",
    "unusefulCols = [\"Typ__WKA_\", \"Projektierer___Betreiber\", \"Bemerkungen\", \"Breitengrad\", \"Längengrad\", \"Landkreis\", \"Ort\"]\n",
    "df.drop(columns=unusefulCols, inplace=True)"
   ]
  },
  {
   "cell_type": "code",
   "execution_count": 4,
   "id": "4879e95a-7ba2-4ca4-b7ab-d5377f6b0335",
   "metadata": {},
   "outputs": [
    {
     "name": "stdout",
     "output_type": "stream",
     "text": [
      "<class 'pandas.core.frame.DataFrame'>\n",
      "Int64Index: 5194 entries, 0 to 5193\n",
      "Data columns (total 8 columns):\n",
      " #   Column               Non-Null Count  Dtype  \n",
      "---  ------               --------------  -----  \n",
      " 0   X                    5194 non-null   float64\n",
      " 1   Y                    5194 non-null   float64\n",
      " 2   FID                  5194 non-null   int64  \n",
      " 3   Bundesland           5194 non-null   object \n",
      " 4   Name                 5194 non-null   object \n",
      " 5   Baujahr              4654 non-null   object \n",
      " 6   Gesamtleistung__MW_  2621 non-null   object \n",
      " 7   Anzahl               2624 non-null   object \n",
      "dtypes: float64(2), int64(1), object(5)\n",
      "memory usage: 365.2+ KB\n"
     ]
    }
   ],
   "source": [
    "df.info()"
   ]
  },
  {
   "cell_type": "code",
   "execution_count": 5,
   "id": "fbd66603-77da-4daf-a465-d0132df76fb0",
   "metadata": {},
   "outputs": [],
   "source": [
    "#convert Anzahl, Baujahr and Gesamtleistung to floats\n",
    "for exp in [\"unklar\", \"9[36]\", \"5[51]\"]:\n",
    "    df.Anzahl.replace({exp:None}, inplace=True)\n",
    "for key, value in {\"2013–2014[33]\":2014, \"2015–2017\":2017, \"1990–1991\":1991, \"2017–2018\":2018, \"1994–1995\":1995, \"2015/2016\":2016, \"1997-2001\":2001, \"2013/2017–2018\":2018, \"2002 2005\":2005, \"2005-2006\":2006, \"2005-2007\":2007, \"2004-2005\":2005, \"2016–2017\":2017, \"2002–2003\":2003, \"2008-2010\":2010, \"2015–2016\":2016,\"2012–2013\":2013, \"2004–2005\":2005, \"2010–2011\":2011, \"2007–2008\":2008, \"2017-2018\":2018, \"1999–2001\":2001, \"2003–2004\":2004, \"1997–1998\":1998, \"2001–2002\":2002, \"1996–1997\":1997, \"2011–2012\":2012, \"1999–2000\":2000, \"1998–1999\":1999, \"2010–2016\":2016, \"2008–2009\":2009, \"2014–2015\":2015, \"2005–2006\": 2006, \"2009–2010\":2010, \"2006–2007\":2007, \"2000–2001\":2001, \"2013–2014\":2014}.items():\n",
    "    df.Baujahr.replace({key:value}, inplace=True)\n",
    "\n",
    "df.Gesamtleistung__MW_ = df.Gesamtleistung__MW_.str.replace(',','.')\n",
    "for key, value in {\"35,45\":80, \"unklar\":None, \"27.0[34][35]\":27}.items():\n",
    "    df.Gesamtleistung__MW_.replace({key:value}, inplace=True)  \n",
    "\n",
    "df = df.astype({\"Anzahl\":float, \"Baujahr\":float, \"Gesamtleistung__MW_\":float})"
   ]
  },
  {
   "cell_type": "markdown",
   "id": "b03f6b29-9a56-4077-b22f-ecad9a252c0f",
   "metadata": {},
   "source": [
    "## Remove rows with duplicate locations values"
   ]
  },
  {
   "cell_type": "code",
   "execution_count": 6,
   "id": "679bf5a8-298d-4567-8670-dd36286f17b7",
   "metadata": {},
   "outputs": [],
   "source": [
    "#create string with X and Y coordinates\n",
    "df[\"loc\"]= df.X.astype(str)+ \", \"+ df.Y.astype(str)"
   ]
  },
  {
   "cell_type": "code",
   "execution_count": 7,
   "id": "517e1a91-92ed-4039-bc73-866d388c0fb3",
   "metadata": {},
   "outputs": [],
   "source": [
    "#create new data frame with the combined values for each location\n",
    "ndf = None\n",
    "for x in df[\"loc\"].unique():\n",
    "    #print(x,y)\n",
    "    df1 = df[(df[\"loc\"]==x)]\n",
    "    #print(len(df1))\n",
    "    if len(df1) > 1:\n",
    "        #combine the values\n",
    "        anzahl = df1.Anzahl.sum()\n",
    "        leistung = df1.Gesamtleistung__MW_.sum()\n",
    "        baujahr = max(df1.Baujahr.to_list())\n",
    "        \n",
    "        #remove duplicates and set new values\n",
    "        df1 = df1.drop_duplicates(subset=[\"loc\"])\n",
    "        df1[\"Baujahr\"] = baujahr\n",
    "        df1.Gesamtleistung__MW_ = leistung\n",
    "        df1.Anzahl = anzahl\n",
    "        \n",
    "        #add new entry to ndf\n",
    "        if ndf is None:\n",
    "            ndf = df1\n",
    "        else:\n",
    "            ndf = ndf.append(df1)\n",
    "    else:\n",
    "        if ndf is None:\n",
    "            ndf = df1\n",
    "        else:\n",
    "            ndf = ndf.append(df1)\n",
    "    "
   ]
  },
  {
   "cell_type": "code",
   "execution_count": 8,
   "id": "432cd6ae-da36-4c7b-879c-4a6a544e21ab",
   "metadata": {},
   "outputs": [],
   "source": [
    "#remove unused variables\n",
    "del df, df1"
   ]
  },
  {
   "cell_type": "code",
   "execution_count": 9,
   "id": "fc3814c7-cc11-4412-b3ee-3202f393def0",
   "metadata": {},
   "outputs": [],
   "source": [
    "#drop the location string\n",
    "ndf.drop(columns=[\"loc\"], inplace=True)"
   ]
  },
  {
   "cell_type": "code",
   "execution_count": 10,
   "id": "97eea0c1-e45b-492e-9ff3-65e6a9852c0e",
   "metadata": {},
   "outputs": [],
   "source": [
    "ndf = ndf.reset_index()"
   ]
  },
  {
   "cell_type": "code",
   "execution_count": 16,
   "id": "2d7b19a0-bb5a-4c0c-b69c-8958be7ad2ff",
   "metadata": {},
   "outputs": [],
   "source": [
    "ndf.to_csv(\"../prep_data/Windkraftanlagen.csv\", index=False)"
   ]
  }
 ],
 "metadata": {
  "kernelspec": {
   "display_name": "Python 3 (ipykernel)",
   "language": "python",
   "name": "python3"
  },
  "language_info": {
   "codemirror_mode": {
    "name": "ipython",
    "version": 3
   },
   "file_extension": ".py",
   "mimetype": "text/x-python",
   "name": "python",
   "nbconvert_exporter": "python",
   "pygments_lexer": "ipython3",
   "version": "3.7.10"
  }
 },
 "nbformat": 4,
 "nbformat_minor": 5
}
