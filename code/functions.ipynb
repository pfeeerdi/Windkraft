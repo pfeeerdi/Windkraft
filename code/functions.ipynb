{
 "cells": [
  {
   "cell_type": "code",
   "execution_count": null,
   "id": "9385e527-e2e6-48af-93c0-3cb5b082e3c1",
   "metadata": {},
   "outputs": [],
   "source": [
    "import os\n",
    "import pandas as pd\n",
    "import json\n",
    "import requests\n",
    "import fiona\n",
    "from shapely.geometry import shape, mapping, Point, Polygon, MultiPolygon\n",
    "import pyproj\n",
    "import math\n",
    "import threading                                                                "
   ]
  },
  {
   "cell_type": "code",
   "execution_count": null,
   "id": "c302dacc-fa0e-4518-944a-3a5600e548c1",
   "metadata": {},
   "outputs": [],
   "source": [
    "def distance(point1, point2):\n",
    "    return ((point1[0]-point2[0])**2+(point1[1]-point2[1])**2)**0.5"
   ]
  },
  {
   "cell_type": "code",
   "execution_count": null,
   "id": "c9cc83b4-d8cd-4ae8-b8f5-1432a55f052a",
   "metadata": {},
   "outputs": [],
   "source": [
    "def getSDOs(df):\n",
    "    SDOs = list(df.SDO_ID.unique())\n",
    "    SDOs.sort()\n",
    "    return SDOs"
   ]
  },
  {
   "cell_type": "code",
   "execution_count": null,
   "id": "ee56ba6a-961d-4fb5-8b43-64c5db758410",
   "metadata": {},
   "outputs": [],
   "source": [
    "def getPointBySDO_ID(df, SDO_ID):\n",
    "    res = df[df['SDO_ID']==SDO_ID]\n",
    "    point = tuple(res[\"loc\"].to_list())\n",
    "    return point[0]"
   ]
  },
  {
   "cell_type": "code",
   "execution_count": null,
   "id": "4633b43c-1a47-46fc-b506-bd23ff04df7f",
   "metadata": {},
   "outputs": [],
   "source": [
    "def getSDODF():\n",
    "    WinddatenSDO = \"../data/Winddaten/data/sdo.csv\"\n",
    "    df = pd.read_csv(WinddatenSDO)\n",
    "    df[\"loc\"] = df.Geogr_Breite + \", \" + df.Geogr_Laenge\n",
    "    a = df[\"loc\"].to_list()\n",
    "    b = []\n",
    "    for x, y in [x.split(\", \") for x in a]:\n",
    "        b.append((float((x.replace(\",\", \".\"))), float((y.replace(\",\", \".\")))))\n",
    "    df[\"loc\"] = b\n",
    "    return df"
   ]
  },
  {
   "cell_type": "code",
   "execution_count": null,
   "id": "26a330b7-e1b1-4423-bfc6-89a4ce07cae3",
   "metadata": {},
   "outputs": [],
   "source": [
    "def getWindDF():\n",
    "    Winddaten = \"../data/Winddaten/data/data.csv\"\n",
    "    df = pd.read_csv(Winddaten, sep=',')\n",
    "    df.columns = [\"SDO_ID\", \"Zeitstempel\", \"Wert\", \"Qualitaet_Byte\", \"Qualitaet_Niveau\", \"sth.\"]\n",
    "    return df"
   ]
  },
  {
   "cell_type": "code",
   "execution_count": null,
   "id": "ab31154b-8e77-4f7b-805f-c6706b60f1e4",
   "metadata": {},
   "outputs": [],
   "source": [
    "def loadWindBySDO_ID(dfWind, SDO_ID):\n",
    "    gf = dfWind.groupby(\"SDO_ID\")\n",
    "    #print(\"Winddurchschnitt von\", dfWind.Zeitstempel.min(), \"bis\", dfWind.Zeitstempel.max())\n",
    "    return gf.get_group(SDO_ID).Wert.mean()"
   ]
  },
  {
   "cell_type": "code",
   "execution_count": null,
   "id": "240e7ce0-ea31-4b00-aedf-e014f674a398",
   "metadata": {},
   "outputs": [],
   "source": [
    "def getDistancesAndWind(point):\n",
    "    dfWind = getWindDF()\n",
    "    dfSDO = getSDODF()\n",
    "    SDOs = getSDOs(dfWind)\n",
    "    #print(len(SDOs))\n",
    "    a = {}\n",
    "    for SDO_ID in SDOs:\n",
    "        SDOPoint = getPointBySDO_ID(dfSDO, SDO_ID)\n",
    "        d = distance(point, SDOPoint)\n",
    "        w = loadWindBySDO_ID(dfWind, SDO_ID)\n",
    "        a[SDO_ID] = [d, w]\n",
    "    return a"
   ]
  },
  {
   "cell_type": "code",
   "execution_count": null,
   "id": "34eac25d-2e96-4721-acae-3e9cb0cf633f",
   "metadata": {},
   "outputs": [],
   "source": [
    "def getBenachbarteTags(point):\n",
    "    x, y = point\n",
    "    #benachbarte Objekte\n",
    "    data = f\"data=%5Btimeout%3A10%5D%5Bout%3Ajson%5D%3B(node(around%3A50%2C{x}%2C{y})%3Bway(around%3A50%2C{x}%2C{y})%3B)%3Bout+tags+geom({x-0.0057}%2C{y-0.0057}%2C{x+0.0057}%2C{y+0.0057})%3Brelation(around%3A50%2C{x}%2C{y})%3Bout+geom({x-0.0057}%2C{y-0.0057}%2C{x+0.0057}%2C{y+0.0057})%3B\"\n",
    "    response = requests.post('https://query.openstreetmap.org/query-features', data=data)\n",
    "    try:\n",
    "        res = json.loads(response.text)\n",
    "        features = {}\n",
    "        #return res\n",
    "        for entry in res[\"elements\"]:\n",
    "            a = entry.get(\"tags\")\n",
    "            if a:\n",
    "                for key, value in a.items():\n",
    "                    features.update({key:value})\n",
    "    except:\n",
    "        return None\n",
    "    return features"
   ]
  },
  {
   "cell_type": "code",
   "execution_count": null,
   "id": "a5a436b9-5eb3-45af-b5d3-d07cd78eddc3",
   "metadata": {},
   "outputs": [],
   "source": [
    "def getUnmschließendeTags(point):\n",
    "    x, y = point\n",
    "    #unmschließendes Objekte\n",
    "    data = f\"data=%5Btimeout%3A10%5D%5Bout%3Ajson%5D%3Bis_in({x}%2C{y})-%3E.a%3Bway(pivot.a)%3Bout+tags+bb%3Bout+ids+geom({x}%2C{y}%2C{x}%2C{y})%3Brelation(pivot.a)%3Bout+tags+bb%3B\"\n",
    "    response = requests.post('https://query.openstreetmap.org/query-features', data=data)\n",
    "    try:\n",
    "        res = json.loads(response.text)\n",
    "        features = {}\n",
    "        #return res\n",
    "        for entry in res[\"elements\"]:\n",
    "            a = entry.get(\"tags\")\n",
    "            if a:\n",
    "                for key, value in a.items():\n",
    "                    features.update({key:value})\n",
    "    except:\n",
    "        return None \n",
    "    return features"
   ]
  },
  {
   "cell_type": "code",
   "execution_count": null,
   "id": "339e1fb1-f895-4940-bd82-8d9c69dc3c69",
   "metadata": {},
   "outputs": [],
   "source": [
    "P = pyproj.Proj(proj='utm', zone=31, ellps='WGS84', preserve_units=True)\n",
    "G = pyproj.Geod(ellps='WGS84')\n",
    "\n",
    "def LatLon_To_XY(Lat,Lon):\n",
    "    return P(Lat,Lon)\n",
    "\n",
    "def XY_To_LatLon(x,y):\n",
    "    return P(x,y,inverse=True)   "
   ]
  },
  {
   "cell_type": "code",
   "execution_count": null,
   "id": "c8bd2c92-42cf-4a5b-872a-32705e54d94a",
   "metadata": {},
   "outputs": [],
   "source": [
    "def PointInPoly(point, geojsonPath):\n",
    "    multipol = fiona.open(geojsonPath)\n",
    "    for multi in multipol:\n",
    "        if Point(point).within(shape(multi['geometry'])):\n",
    "            return True\n",
    "    return False "
   ]
  },
  {
   "cell_type": "code",
   "execution_count": null,
   "id": "9aeeb278-ecb7-4c8c-8217-86d0db3f845c",
   "metadata": {},
   "outputs": [],
   "source": [
    "def PointInSchutzgebiet(a):\n",
    "    point = LatLon_To_XY(a[1], a[0])\n",
    "    path = \"../data/Schutzgebiete/\"\n",
    "    files = [\"../data/Schutzgebiete/\"+f for f in os.listdir(path) if f[-4:]==\"json\"]\n",
    "    res = [i for i in range(len(files))]\n",
    "    for i, geojsonPath in enumerate(files):\n",
    "        #print(f\"Scanning {geojsonPath}\")\n",
    "        if PointInPoly(point, geojsonPath):\n",
    "            res[i]=1\n",
    "        else:\n",
    "            res[i]=0\n",
    "    return res      "
   ]
  },
  {
   "cell_type": "code",
   "execution_count": null,
   "id": "5c3ab633-b5f8-4492-be94-ec3ddc79f555",
   "metadata": {},
   "outputs": [],
   "source": [
    "def getWinkraftPoints():\n",
    "    df = pd.read_csv(\"../prep_data/Windkraftanlagen.csv\")\n",
    "    a = [x.split(\", \") for x in df[\"loc\"].to_list()]\n",
    "    b= []\n",
    "    for x,y in a:\n",
    "        b.append([float(x), float(y)])\n",
    "    WinkraftPoints = [tuple(x) for x in b]\n",
    "    return WinkraftPoints"
   ]
  },
  {
   "cell_type": "code",
   "execution_count": null,
   "id": "046276a4-3284-4888-99d2-df156c10e330",
   "metadata": {},
   "outputs": [],
   "source": [
    "def getNoWindkraftPoints():\n",
    "    df = pd.read_csv(\"NoWindkraftanlagen.csv\")\n",
    "    points = []\n",
    "    for item in df[\"loc\"].to_list():\n",
    "        x, y = item[1:-1].split(\", \")\n",
    "        points.append((float(x), float(y)))\n",
    "    return points"
   ]
  },
  {
   "cell_type": "markdown",
   "id": "5a18b276-8412-46db-a1ac-f77cc5a20dac",
   "metadata": {},
   "source": [
    "# WindkraftPoints"
   ]
  },
  {
   "cell_type": "code",
   "execution_count": null,
   "id": "99fd3845-633f-4db7-80b4-86cf60108bc9",
   "metadata": {},
   "outputs": [],
   "source": [
    "WinkraftPoints = getWinkraftPoints()"
   ]
  },
  {
   "cell_type": "code",
   "execution_count": null,
   "id": "4e00ba83-963f-4947-9192-da445addbffe",
   "metadata": {},
   "outputs": [],
   "source": [
    "#Naturmonumente, Nationalparke, Vogelschutzgebiet, Landschaftsschutzgebiete, Naturschutzgebiete, Biosphaerenreservate\n",
    "#columns = [\"Naturmonumente\", \"Nationalparke\", \"Vogelschutzgebiet\", \"Landschaftsschutzgebiete\", \"Naturschutzgebiete\", \"Biosphaerenreservate\"]\n",
    "\n",
    "#inSchutzGebiet = []\n",
    "#for point in WinkraftPoints:\n",
    "#    inSchutzGebiet.append(PointInSchutzgebiet(point))"
   ]
  },
  {
   "cell_type": "code",
   "execution_count": null,
   "id": "54af5167-711c-4667-8f92-751a34714b7c",
   "metadata": {},
   "outputs": [],
   "source": [
    "umschließendeTags = []\n",
    "benachbarteTags = []\n",
    "distanceAndWind = []\n",
    "\n",
    "for point in WinkraftPoints:\n",
    "    umschließendeTags.append(getUnmschließendeTags(point))\n",
    "    benachbarteTags.append(getBenachbarteTags(point))     \n",
    "    distanceAndWind.append(getDistancesAndWind(point))\n",
    "    print(\"Done\")"
   ]
  },
  {
   "cell_type": "code",
   "execution_count": null,
   "id": "2837f536-c480-44da-a35e-521881229147",
   "metadata": {},
   "outputs": [],
   "source": [
    "df = pd.DataFrame()\n",
    "df[\"loc\"] = WinkraftPoints\n",
    "#df[\"schutzgebiete\"] = inSchutzGebiet\n",
    "df[\"umschließendeTags\"] = umschließendeTags\n",
    "df[\"benachbarteTags\"] = benachbarteTags\n",
    "df[\"distanceAndWind\"] = distanceAndWind\n",
    "df.to_csv(\"prepWindKraft.csv\", index=False)\n",
    "df[\"Label\"] = [True for x in range(len(df))]\n",
    "df.to_csv(\"prepWindKraftLabel.csv\", index=False)"
   ]
  },
  {
   "cell_type": "markdown",
   "id": "c27f02ba-bb45-48e8-9be3-7506aa4be23f",
   "metadata": {},
   "source": [
    "# NO WindkraftPoints"
   ]
  },
  {
   "cell_type": "code",
   "execution_count": null,
   "id": "9c924b3a-5862-44b2-8c6c-bfea56f4d001",
   "metadata": {},
   "outputs": [],
   "source": [
    "NoWinkraftPoints = getNoWindkraftPoints()#[:10]\n",
    "\n",
    "#Naturmonumente, Nationalparke, Vogelschutzgebiet, Landschaftsschutzgebiete, Naturschutzgebiete, Biosphaerenreservate\n",
    "#columns = [\"Naturmonumente\", \"Nationalparke\", \"Vogelschutzgebiet\", \"Landschaftsschutzgebiete\", \"Naturschutzgebiete\", \"Biosphaerenreservate\"]\n",
    "\n",
    "#inSchutzGebiet1 = []\n",
    "#for point in NoWinkraftPoints:\n",
    "#    inSchutzGebiet1.append(PointInSchutzgebiet(point))\n",
    "    \n",
    "umschließendeTags1 = []\n",
    "benachbarteTags1 = []\n",
    "distanceAndWind1 = []\n",
    "\n",
    "for point in NoWinkraftPoints:\n",
    "    distanceAndWind1.append(getDistancesAndWind(point))\n",
    "    umschließendeTags1.append(getUnmschließendeTags(point))\n",
    "    benachbarteTags1.append(getBenachbarteTags(point))\n",
    "    print(\"Done\")"
   ]
  },
  {
   "cell_type": "code",
   "execution_count": null,
   "id": "2b527e17-67c7-441a-9ac2-8e479fa17a5a",
   "metadata": {},
   "outputs": [],
   "source": [
    "df1 = pd.DataFrame()\n",
    "df1[\"loc\"] = NoWinkraftPoints\n",
    "#df1[\"schutzgebiete\"] = inSchutzGebiet1\n",
    "df1[\"umschließendeTags\"] = umschließendeTags1\n",
    "df1[\"benachbarteTags\"] = benachbarteTags1\n",
    "df1[\"distanceAndWind\"] = distanceAndWind1\n",
    "df1.to_csv(\"prepNoWindKraft.csv\", index=False)\n",
    "df1[\"Label\"] = [False for x in range(len(df1))]\n",
    "df1.to_csv(\"prepNoWindKraftLabel.csv\", index=False)"
   ]
  }
 ],
 "metadata": {
  "kernelspec": {
   "display_name": "Python 3 (ipykernel)",
   "language": "python",
   "name": "python3"
  },
  "language_info": {
   "codemirror_mode": {
    "name": "ipython",
    "version": 3
   },
   "file_extension": ".py",
   "mimetype": "text/x-python",
   "name": "python",
   "nbconvert_exporter": "python",
   "pygments_lexer": "ipython3",
   "version": "3.7.10"
  }
 },
 "nbformat": 4,
 "nbformat_minor": 5
}
