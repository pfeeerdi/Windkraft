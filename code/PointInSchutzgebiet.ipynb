{
 "cells": [
  {
   "cell_type": "code",
   "execution_count": 1,
   "id": "fa6aba0a-1586-4cf8-8ce4-5b4b0cb8c408",
   "metadata": {},
   "outputs": [],
   "source": [
    "import os\n",
    "import pandas as pd\n",
    "import json\n",
    "import requests\n",
    "import fiona\n",
    "from shapely.geometry import shape, mapping, Point, Polygon, MultiPolygon\n",
    "import pyproj\n",
    "import math"
   ]
  },
  {
   "cell_type": "code",
   "execution_count": 7,
   "id": "1991c16f-1a91-4e21-8967-a695506f6e95",
   "metadata": {},
   "outputs": [],
   "source": [
    "def PointInPoly(point, geojsonPath):\n",
    "    multipol = fiona.open(geojsonPath)\n",
    "    for multi in multipol:\n",
    "        if Point(point).within(shape(multi['geometry'])):\n",
    "            return True\n",
    "    return False "
   ]
  },
  {
   "cell_type": "code",
   "execution_count": 16,
   "id": "8e7c43ff-f3fc-4b98-b2aa-4daf50f459c1",
   "metadata": {},
   "outputs": [],
   "source": [
    "def PointInSchutzgebiet(a):\n",
    "    point = LatLon_To_XY(a[1], a[0])\n",
    "    path = \"../data/Schutzgebiete/\"\n",
    "    files = [\"../data/Schutzgebiete/\"+f for f in os.listdir(path) if f[-4:]==\"json\"]\n",
    "    res = [i for i in range(len(files))]\n",
    "    for i, geojsonPath in enumerate(files):\n",
    "        print(f\"Scanning {geojsonPath}\")\n",
    "        if PointInPoly(point, geojsonPath):\n",
    "            res[i]=1\n",
    "        else:\n",
    "            res[i]=0\n",
    "    return res      "
   ]
  },
  {
   "cell_type": "code",
   "execution_count": 17,
   "id": "627f1c2c-6ea8-4c1f-bebf-309b6efa9b75",
   "metadata": {},
   "outputs": [],
   "source": [
    "P = pyproj.Proj(proj='utm', zone=31, ellps='WGS84', preserve_units=True)\n",
    "G = pyproj.Geod(ellps='WGS84')\n",
    "\n",
    "def LatLon_To_XY(Lat,Lon):\n",
    "    return P(Lat,Lon)\n",
    "\n",
    "def XY_To_LatLon(x,y):\n",
    "    return P(x,y,inverse=True)   "
   ]
  },
  {
   "cell_type": "code",
   "execution_count": 18,
   "id": "2933e29e-fab0-4c22-acda-00dd85c3eb42",
   "metadata": {},
   "outputs": [],
   "source": [
    "a = (52.18313210156813, 7.77967558018079)"
   ]
  },
  {
   "cell_type": "code",
   "execution_count": 22,
   "id": "e53b6e07-fd06-492d-8f44-4cb5b3ce1a95",
   "metadata": {},
   "outputs": [
    {
     "name": "stdout",
     "output_type": "stream",
     "text": [
      "Scanning ../data/Schutzgebiete/Naturmonumente.json\n",
      "Scanning ../data/Schutzgebiete/Nationalparke.json\n",
      "Scanning ../data/Schutzgebiete/Vogelschutzgebiet.json\n",
      "Scanning ../data/Schutzgebiete/Landschaftsschutzgebiete.json\n",
      "Scanning ../data/Schutzgebiete/Naturschutzgebiete.json\n",
      "Scanning ../data/Schutzgebiete/Biosphaerenreservate.json\n"
     ]
    },
    {
     "data": {
      "text/plain": [
       "[0, 0, 0, 1, 1, 0]"
      ]
     },
     "execution_count": 22,
     "metadata": {},
     "output_type": "execute_result"
    }
   ],
   "source": [
    "#Naturmonumente, Nationalparke, Vogelschutzgebiet, Landschaftsschutzgebiete, Naturschutzgebiete, Biosphaerenreservate\n",
    "columns = [\"Naturmonumente\", \"Nationalparke\", \"Vogelschutzgebiet\", \"Landschaftsschutzgebiete\", \"Naturschutzgebiete\", \"Biosphaerenreservate\"]\n",
    "PointInSchutzgebiet(a) "
   ]
  },
  {
   "cell_type": "code",
   "execution_count": null,
   "id": "6963360a-2b6c-4d9f-84ac-e383e87ed461",
   "metadata": {},
   "outputs": [],
   "source": []
  }
 ],
 "metadata": {
  "kernelspec": {
   "display_name": "Python 3 (ipykernel)",
   "language": "python",
   "name": "python3"
  },
  "language_info": {
   "codemirror_mode": {
    "name": "ipython",
    "version": 3
   },
   "file_extension": ".py",
   "mimetype": "text/x-python",
   "name": "python",
   "nbconvert_exporter": "python",
   "pygments_lexer": "ipython3",
   "version": "3.7.10"
  }
 },
 "nbformat": 4,
 "nbformat_minor": 5
}
